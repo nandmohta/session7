{
 "cells": [
  {
   "cell_type": "code",
   "execution_count": 1,
   "metadata": {},
   "outputs": [],
   "source": [
    "# Define a Function to find the moving average in an array over  a window :\n",
    "# Test Data [3,5,7,2,8,10,11,65,72,81,99,100,150] and window of 3"
   ]
  },
  {
   "cell_type": "code",
   "execution_count": 2,
   "metadata": {},
   "outputs": [],
   "source": [
    "import numpy as np\n",
    "\n",
    "def movingaverage(arraylist,window):\n",
    "    '''\n",
    "    This function generates the moving average sequence for the given arraylist and the window\n",
    "    INPUT: arraylist for which moving average sequence to be generated\n",
    "           window - Number of list items that needs to be considered for calculating the moving average\n",
    "    OUTPUT: array of moving Average\n",
    "    '''\n",
    "    \n",
    "    n = len(arraylist) #Length of the Arraylist\n",
    "    movingaveragelength = n - window + 1  #Lenght of the moving average array list\n",
    "    movingaveragelist = []; #List to hold moving averages\n",
    "    \n",
    "    for i in range(0,movingaveragelength):\n",
    "        slicedlist = arrays[slice(i,i+window)]  # Read the values based n the window size\n",
    "        movingaveragelist.append(slicedlist.sum()/window) # Calculate the average value and append to the list\n",
    "   \n",
    "    return movingaveragelist"
   ]
  },
  {
   "cell_type": "code",
   "execution_count": 3,
   "metadata": {},
   "outputs": [
    {
     "name": "stdout",
     "output_type": "stream",
     "text": [
      "Y1 : 5.0\n",
      "Y2 : 4.666666666666667\n",
      "Y3 : 5.666666666666667\n",
      "Y4 : 6.666666666666667\n",
      "Y5 : 9.666666666666666\n",
      "Y6 : 28.666666666666668\n",
      "Y7 : 49.333333333333336\n",
      "Y8 : 72.66666666666667\n",
      "Y9 : 84.0\n",
      "Y10 : 93.33333333333333\n",
      "Y11 : 116.33333333333333\n"
     ]
    }
   ],
   "source": [
    "arrays = np.array([3,5,7,2,8,10,11,65,72,81,99,100,150])\n",
    "movingarraylist =  movingaverage(arrays,3)\n",
    "for i in range(0,len(movingarraylist)):\n",
    "    print(f'Y{i+1} : {movingarraylist[i]}')\n"
   ]
  },
  {
   "cell_type": "code",
   "execution_count": null,
   "metadata": {},
   "outputs": [],
   "source": []
  }
 ],
 "metadata": {
  "kernelspec": {
   "display_name": "Python 3",
   "language": "python",
   "name": "python3"
  },
  "language_info": {
   "codemirror_mode": {
    "name": "ipython",
    "version": 3
   },
   "file_extension": ".py",
   "mimetype": "text/x-python",
   "name": "python",
   "nbconvert_exporter": "python",
   "pygments_lexer": "ipython3",
   "version": "3.6.5"
  }
 },
 "nbformat": 4,
 "nbformat_minor": 2
}
